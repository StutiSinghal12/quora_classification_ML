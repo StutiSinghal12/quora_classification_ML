{
 "cells": [
  {
   "cell_type": "code",
   "execution_count": 1,
   "metadata": {
    "_cell_guid": "b1076dfc-b9ad-4769-8c92-a6c4dae69d19",
    "_uuid": "8f2839f25d086af736a60e9eeb907d3b93b6e0e5",
    "execution": {
     "iopub.execute_input": "2021-05-25T10:48:51.144521Z",
     "iopub.status.busy": "2021-05-25T10:48:51.144144Z",
     "iopub.status.idle": "2021-05-25T10:48:51.159062Z",
     "shell.execute_reply": "2021-05-25T10:48:51.157950Z",
     "shell.execute_reply.started": "2021-05-25T10:48:51.144480Z"
    }
   },
   "outputs": [],
   "source": [
    "# This Python 3 environment comes with many helpful analytics libraries installed\n",
    "# It is defined by the kaggle/python Docker image: https://github.com/kaggle/docker-python\n",
    "# For example, here's several helpful packages to load\n",
    "\n",
    "import numpy as np # linear algebra\n",
    "import pandas as pd # data processing, CSV file I/O (e.g. pd.read_csv)\n",
    "\n",
    "# Input data files are available in the read-only \"../input/\" directory\n",
    "# For example, running this (by clicking run or pressing Shift+Enter) will list all files under the input directory\n",
    "\n",
    "import os\n",
    "for dirname, _, filenames in os.walk('/kaggle/input'):\n",
    "    for filename in filenames:\n",
    "        print(os.path.join(dirname, filename))\n",
    "\n",
    "# You can write up to 20GB to the current directory (/kaggle/working/) that gets preserved as output when you create a version using \"Save & Run All\" \n",
    "# You can also write temporary files to /kaggle/temp/, but they won't be saved outside of the current session"
   ]
  },
  {
   "cell_type": "code",
   "execution_count": 2,
   "metadata": {
    "execution": {
     "iopub.execute_input": "2021-05-25T10:48:51.219538Z",
     "iopub.status.busy": "2021-05-25T10:48:51.219182Z",
     "iopub.status.idle": "2021-05-25T10:48:51.225452Z",
     "shell.execute_reply": "2021-05-25T10:48:51.224755Z",
     "shell.execute_reply.started": "2021-05-25T10:48:51.219508Z"
    }
   },
   "outputs": [],
   "source": [
    "import numpy as np # linear algebra\n",
    "import pandas as pd # data processing, CSV file I/O (e.g. pd.read_csv)\n",
    "import matplotlib.pyplot as plt\n",
    "import seaborn as sns\n",
    "%matplotlib inline"
   ]
  },
  {
   "cell_type": "markdown",
   "metadata": {},
   "source": [
    "# 1.DATASET "
   ]
  },
  {
   "cell_type": "code",
   "execution_count": 3,
   "metadata": {
    "execution": {
     "iopub.execute_input": "2021-05-25T10:48:51.295422Z",
     "iopub.status.busy": "2021-05-25T10:48:51.293376Z",
     "iopub.status.idle": "2021-05-25T10:48:54.112002Z",
     "shell.execute_reply": "2021-05-25T10:48:54.110938Z",
     "shell.execute_reply.started": "2021-05-25T10:48:51.295383Z"
    }
   },
   "outputs": [
    {
     "name": "stdout",
     "output_type": "stream",
     "text": [
      "Shape of train data:  (1306122, 3)\n"
     ]
    },
    {
     "data": {
      "text/html": [
       "<div>\n",
       "<style scoped>\n",
       "    .dataframe tbody tr th:only-of-type {\n",
       "        vertical-align: middle;\n",
       "    }\n",
       "\n",
       "    .dataframe tbody tr th {\n",
       "        vertical-align: top;\n",
       "    }\n",
       "\n",
       "    .dataframe thead th {\n",
       "        text-align: right;\n",
       "    }\n",
       "</style>\n",
       "<table border=\"1\" class=\"dataframe\">\n",
       "  <thead>\n",
       "    <tr style=\"text-align: right;\">\n",
       "      <th></th>\n",
       "      <th>qid</th>\n",
       "      <th>question_text</th>\n",
       "      <th>target</th>\n",
       "    </tr>\n",
       "  </thead>\n",
       "  <tbody>\n",
       "    <tr>\n",
       "      <th>0</th>\n",
       "      <td>00002165364db923c7e6</td>\n",
       "      <td>How did Quebec nationalists see their province...</td>\n",
       "      <td>0</td>\n",
       "    </tr>\n",
       "    <tr>\n",
       "      <th>1</th>\n",
       "      <td>000032939017120e6e44</td>\n",
       "      <td>Do you have an adopted dog, how would you enco...</td>\n",
       "      <td>0</td>\n",
       "    </tr>\n",
       "    <tr>\n",
       "      <th>2</th>\n",
       "      <td>0000412ca6e4628ce2cf</td>\n",
       "      <td>Why does velocity affect time? Does velocity a...</td>\n",
       "      <td>0</td>\n",
       "    </tr>\n",
       "    <tr>\n",
       "      <th>3</th>\n",
       "      <td>000042bf85aa498cd78e</td>\n",
       "      <td>How did Otto von Guericke used the Magdeburg h...</td>\n",
       "      <td>0</td>\n",
       "    </tr>\n",
       "    <tr>\n",
       "      <th>4</th>\n",
       "      <td>0000455dfa3e01eae3af</td>\n",
       "      <td>Can I convert montra helicon D to a mountain b...</td>\n",
       "      <td>0</td>\n",
       "    </tr>\n",
       "  </tbody>\n",
       "</table>\n",
       "</div>"
      ],
      "text/plain": [
       "                    qid                                      question_text  \\\n",
       "0  00002165364db923c7e6  How did Quebec nationalists see their province...   \n",
       "1  000032939017120e6e44  Do you have an adopted dog, how would you enco...   \n",
       "2  0000412ca6e4628ce2cf  Why does velocity affect time? Does velocity a...   \n",
       "3  000042bf85aa498cd78e  How did Otto von Guericke used the Magdeburg h...   \n",
       "4  0000455dfa3e01eae3af  Can I convert montra helicon D to a mountain b...   \n",
       "\n",
       "   target  \n",
       "0       0  \n",
       "1       0  \n",
       "2       0  \n",
       "3       0  \n",
       "4       0  "
      ]
     },
     "execution_count": 3,
     "metadata": {},
     "output_type": "execute_result"
    }
   ],
   "source": [
    "df_train = pd.read_csv(r\"C:\\Users\\pc\\Desktop\\ml_model\\train.csv\")\n",
    "print(\"Shape of train data: \", df_train.shape)\n",
    "df_train.head()"
   ]
  },
  {
   "cell_type": "code",
   "execution_count": 4,
   "metadata": {
    "execution": {
     "iopub.execute_input": "2021-05-25T10:48:54.114335Z",
     "iopub.status.busy": "2021-05-25T10:48:54.113748Z",
     "iopub.status.idle": "2021-05-25T10:48:54.972998Z",
     "shell.execute_reply": "2021-05-25T10:48:54.971876Z",
     "shell.execute_reply.started": "2021-05-25T10:48:54.114290Z"
    }
   },
   "outputs": [
    {
     "name": "stdout",
     "output_type": "stream",
     "text": [
      "Shape of test data:  (375806, 2)\n"
     ]
    },
    {
     "data": {
      "text/html": [
       "<div>\n",
       "<style scoped>\n",
       "    .dataframe tbody tr th:only-of-type {\n",
       "        vertical-align: middle;\n",
       "    }\n",
       "\n",
       "    .dataframe tbody tr th {\n",
       "        vertical-align: top;\n",
       "    }\n",
       "\n",
       "    .dataframe thead th {\n",
       "        text-align: right;\n",
       "    }\n",
       "</style>\n",
       "<table border=\"1\" class=\"dataframe\">\n",
       "  <thead>\n",
       "    <tr style=\"text-align: right;\">\n",
       "      <th></th>\n",
       "      <th>qid</th>\n",
       "      <th>question_text</th>\n",
       "    </tr>\n",
       "  </thead>\n",
       "  <tbody>\n",
       "    <tr>\n",
       "      <th>0</th>\n",
       "      <td>0000163e3ea7c7a74cd7</td>\n",
       "      <td>Why do so many women become so rude and arroga...</td>\n",
       "    </tr>\n",
       "    <tr>\n",
       "      <th>1</th>\n",
       "      <td>00002bd4fb5d505b9161</td>\n",
       "      <td>When should I apply for RV college of engineer...</td>\n",
       "    </tr>\n",
       "    <tr>\n",
       "      <th>2</th>\n",
       "      <td>00007756b4a147d2b0b3</td>\n",
       "      <td>What is it really like to be a nurse practitio...</td>\n",
       "    </tr>\n",
       "    <tr>\n",
       "      <th>3</th>\n",
       "      <td>000086e4b7e1c7146103</td>\n",
       "      <td>Who are entrepreneurs?</td>\n",
       "    </tr>\n",
       "    <tr>\n",
       "      <th>4</th>\n",
       "      <td>0000c4c3fbe8785a3090</td>\n",
       "      <td>Is education really making good people nowadays?</td>\n",
       "    </tr>\n",
       "  </tbody>\n",
       "</table>\n",
       "</div>"
      ],
      "text/plain": [
       "                    qid                                      question_text\n",
       "0  0000163e3ea7c7a74cd7  Why do so many women become so rude and arroga...\n",
       "1  00002bd4fb5d505b9161  When should I apply for RV college of engineer...\n",
       "2  00007756b4a147d2b0b3  What is it really like to be a nurse practitio...\n",
       "3  000086e4b7e1c7146103                             Who are entrepreneurs?\n",
       "4  0000c4c3fbe8785a3090   Is education really making good people nowadays?"
      ]
     },
     "execution_count": 4,
     "metadata": {},
     "output_type": "execute_result"
    }
   ],
   "source": [
    "df_test = pd.read_csv(r\"C:\\Users\\pc\\Desktop\\ml_model\\test.csv\")\n",
    "print(\"Shape of test data: \", df_test.shape)\n",
    "df_test.head()"
   ]
  },
  {
   "cell_type": "markdown",
   "metadata": {},
   "source": [
    "# 2.Data analysis"
   ]
  },
  {
   "cell_type": "code",
   "execution_count": 5,
   "metadata": {
    "execution": {
     "iopub.execute_input": "2021-05-25T10:48:54.975867Z",
     "iopub.status.busy": "2021-05-25T10:48:54.975411Z",
     "iopub.status.idle": "2021-05-25T10:48:55.237192Z",
     "shell.execute_reply": "2021-05-25T10:48:55.236491Z",
     "shell.execute_reply.started": "2021-05-25T10:48:54.975824Z"
    }
   },
   "outputs": [
    {
     "name": "stdout",
     "output_type": "stream",
     "text": [
      "<class 'pandas.core.frame.DataFrame'>\n",
      "RangeIndex: 1306122 entries, 0 to 1306121\n",
      "Data columns (total 3 columns):\n",
      " #   Column         Non-Null Count    Dtype \n",
      "---  ------         --------------    ----- \n",
      " 0   qid            1306122 non-null  object\n",
      " 1   question_text  1306122 non-null  object\n",
      " 2   target         1306122 non-null  int64 \n",
      "dtypes: int64(1), object(2)\n",
      "memory usage: 29.9+ MB\n"
     ]
    }
   ],
   "source": [
    "df_train.info()"
   ]
  },
  {
   "cell_type": "code",
   "execution_count": 6,
   "metadata": {
    "execution": {
     "iopub.execute_input": "2021-05-25T10:48:55.238811Z",
     "iopub.status.busy": "2021-05-25T10:48:55.238411Z",
     "iopub.status.idle": "2021-05-25T10:48:55.257688Z",
     "shell.execute_reply": "2021-05-25T10:48:55.256759Z",
     "shell.execute_reply.started": "2021-05-25T10:48:55.238783Z"
    }
   },
   "outputs": [
    {
     "data": {
      "text/plain": [
       "0    1225312\n",
       "1      80810\n",
       "Name: target, dtype: int64"
      ]
     },
     "execution_count": 6,
     "metadata": {},
     "output_type": "execute_result"
    }
   ],
   "source": [
    "df_train['target'].value_counts()"
   ]
  },
  {
   "cell_type": "markdown",
   "metadata": {},
   "source": [
    "# Equilibrium of the data set\n",
    "Data imbalance is one of the common phenomena of binary classification problem. Before delving into the analysis of this phenomenon, we need to check the equilibrium of the data set."
   ]
  },
  {
   "cell_type": "code",
   "execution_count": 7,
   "metadata": {
    "execution": {
     "iopub.execute_input": "2021-05-25T10:48:55.259217Z",
     "iopub.status.busy": "2021-05-25T10:48:55.258928Z",
     "iopub.status.idle": "2021-05-25T10:48:55.594708Z",
     "shell.execute_reply": "2021-05-25T10:48:55.593761Z",
     "shell.execute_reply.started": "2021-05-25T10:48:55.259189Z"
    }
   },
   "outputs": [
    {
     "name": "stdout",
     "output_type": "stream",
     "text": [
      "Total questions:  1306122\n",
      "Sincere questions: 93.81%\n",
      "Insincere questions: 6.19%\n"
     ]
    },
    {
     "data": {
      "text/plain": [
       "Text(0.5, 1.0, 'Count of question in each category (insincere =  1)')"
      ]
     },
     "execution_count": 7,
     "metadata": {},
     "output_type": "execute_result"
    },
    {
     "data": {
      "image/png": "[encoded data removed]",
      "text/plain": [
       "<Figure size 720x648 with 1 Axes>"
      ]
     },
     "metadata": {
      "needs_background": "light"
     },
     "output_type": "display_data"
    }
   ],
   "source": [
    "print(\"Total questions: \", df_train.shape[0])\n",
    "print(\"Sincere questions: {}%\".format(round(df_train[df_train[\"target\"] == 0].shape[0]/df_train.shape[0]*100, 2)))\n",
    "print(\"Insincere questions: {}%\".format(round(df_train[df_train[\"target\"] == 1].shape[0]/df_train.shape[0]*100, 2)))\n",
    "\n",
    "plt.figure(figsize=(10,9))\n",
    "sns.countplot(x='target', data=df_train)\n",
    "plt.title('Count of question in each category (insincere =  1)')"
   ]
  },
  {
   "cell_type": "markdown",
   "metadata": {},
   "source": [
    "The non-toxic question accounts for nearly 94%, whereby the data ratio between the two classes is about 15:1.\n",
    "\n",
    "This is a serious imbalance that leads to inaccurate forecasting results in the minority."
   ]
  },
  {
   "attachments": {
    "16cd9af0-a03b-46ac-8092-219e1940f022.png": {
     "image/png": "[encoded data removed]"
    }
   },
   "cell_type": "markdown",
   "metadata": {},
   "source": [
    "# Handling data imbalance\n",
    "When one side has a majority and the other a minority, there are obviously two ways to balance them out:\n",
    "\n",
    "**Over sampling:** consists of increasing samples in minority class making it eqivalent to majority \n",
    "\n",
    "**Under sampling**: consists of reducing sample size by removing samples from majority class and making it equal to minority\n",
    "\n",
    "![image.png](attachment:16cd9af0-a03b-46ac-8092-219e1940f022.png)!\n",
    "\n",
    "oversampling duplicates random records from minority class which causes overfitting. In undersampling removing random records from majority class can cause loss of information.\n",
    "\n",
    "Problem: The ratio of 50:50 on 2 classes is an equilibrium, but getting there will take a lot of data samples.\n",
    "\n",
    "Solution: We will reduce the imbalance (1:4) so that it does not significantly affect the predictive power of the model."
   ]
  },
  {
   "cell_type": "code",
   "execution_count": 8,
   "metadata": {
    "execution": {
     "iopub.execute_input": "2021-05-25T10:48:55.596313Z",
     "iopub.status.busy": "2021-05-25T10:48:55.596018Z",
     "iopub.status.idle": "2021-05-25T10:48:55.614804Z",
     "shell.execute_reply": "2021-05-25T10:48:55.613591Z",
     "shell.execute_reply.started": "2021-05-25T10:48:55.596283Z"
    }
   },
   "outputs": [
    {
     "data": {
      "text/plain": [
       "1225312"
      ]
     },
     "execution_count": 8,
     "metadata": {},
     "output_type": "execute_result"
    }
   ],
   "source": [
    "# Class count\n",
    "count_class_0, count_class_1 = df_train.target.value_counts()\n",
    "count_class_0\n"
   ]
  },
  {
   "cell_type": "code",
   "execution_count": 9,
   "metadata": {
    "execution": {
     "iopub.execute_input": "2021-05-25T10:48:55.616359Z",
     "iopub.status.busy": "2021-05-25T10:48:55.616051Z",
     "iopub.status.idle": "2021-05-25T10:48:55.621250Z",
     "shell.execute_reply": "2021-05-25T10:48:55.620377Z",
     "shell.execute_reply.started": "2021-05-25T10:48:55.616330Z"
    }
   },
   "outputs": [
    {
     "data": {
      "text/plain": [
       "80810"
      ]
     },
     "execution_count": 9,
     "metadata": {},
     "output_type": "execute_result"
    }
   ],
   "source": [
    "count_class_1 "
   ]
  },
  {
   "cell_type": "code",
   "execution_count": 10,
   "metadata": {
    "execution": {
     "iopub.execute_input": "2021-05-25T10:48:55.624064Z",
     "iopub.status.busy": "2021-05-25T10:48:55.623766Z",
     "iopub.status.idle": "2021-05-25T10:48:55.805912Z",
     "shell.execute_reply": "2021-05-25T10:48:55.804843Z",
     "shell.execute_reply.started": "2021-05-25T10:48:55.624035Z"
    }
   },
   "outputs": [],
   "source": [
    "sincere = df_train[df_train.target == 0]\n",
    "insincere = df_train[df_train.target == 1]"
   ]
  },
  {
   "cell_type": "markdown",
   "metadata": {},
   "source": [
    "# Undersampling over this dataset "
   ]
  },
  {
   "cell_type": "code",
   "execution_count": 11,
   "metadata": {
    "execution": {
     "iopub.execute_input": "2021-05-25T10:48:55.808300Z",
     "iopub.status.busy": "2021-05-25T10:48:55.807970Z",
     "iopub.status.idle": "2021-05-25T10:48:56.058038Z",
     "shell.execute_reply": "2021-05-25T10:48:56.057081Z",
     "shell.execute_reply.started": "2021-05-25T10:48:55.808270Z"
    }
   },
   "outputs": [
    {
     "name": "stdout",
     "output_type": "stream",
     "text": [
      "Random under-sampling:\n",
      "0    80810\n",
      "1    80810\n",
      "Name: target, dtype: int64\n"
     ]
    },
    {
     "data": {
      "image/png": "[encoded data removed]",
      "text/plain": [
       "<Figure size 432x288 with 1 Axes>"
      ]
     },
     "metadata": {
      "needs_background": "light"
     },
     "output_type": "display_data"
    }
   ],
   "source": [
    "sincere_under = sincere.sample(count_class_1)\n",
    "df_train_sampled = pd.concat([sincere_under,insincere], axis=0)\n",
    "print('Random under-sampling:')\n",
    "print(df_train_sampled.target.value_counts())\n",
    "\n",
    "df_train_sampled.target.value_counts().plot(kind='bar', title='Count (target)');\n"
   ]
  },
  {
   "cell_type": "code",
   "execution_count": 12,
   "metadata": {
    "execution": {
     "iopub.execute_input": "2021-05-25T10:48:56.059734Z",
     "iopub.status.busy": "2021-05-25T10:48:56.059406Z",
     "iopub.status.idle": "2021-05-25T10:48:56.063631Z",
     "shell.execute_reply": "2021-05-25T10:48:56.062701Z",
     "shell.execute_reply.started": "2021-05-25T10:48:56.059704Z"
    }
   },
   "outputs": [],
   "source": [
    "#from sklearn.utils import resample\n",
    "\n",
    "#sincere = df_train[df_train.target == 0]\n",
    "#insincere = df_train[df_train.target == 1]\n",
    "#df_train_sampled = pd.concat([resample(sincere,replace = True,n_samples = len(insincere)*4), insincere])\n",
    "#df_train_sampled"
   ]
  },
  {
   "cell_type": "markdown",
   "metadata": {},
   "source": [
    "# some visulaization "
   ]
  },
  {
   "cell_type": "code",
   "execution_count": 13,
   "metadata": {
    "execution": {
     "iopub.execute_input": "2021-05-25T10:48:56.065067Z",
     "iopub.status.busy": "2021-05-25T10:48:56.064782Z",
     "iopub.status.idle": "2021-05-25T10:48:56.076438Z",
     "shell.execute_reply": "2021-05-25T10:48:56.075706Z",
     "shell.execute_reply.started": "2021-05-25T10:48:56.065041Z"
    }
   },
   "outputs": [
    {
     "ename": "ModuleNotFoundError",
     "evalue": "No module named 'wordcloud'",
     "output_type": "error",
     "traceback": [
      "\u001b[1;31m---------------------------------------------------------------------------\u001b[0m",
      "\u001b[1;31mModuleNotFoundError\u001b[0m                       Traceback (most recent call last)",
      "\u001b[1;32m<ipython-input-13-1c9f49c5258c>\u001b[0m in \u001b[0;36m<module>\u001b[1;34m\u001b[0m\n\u001b[1;32m----> 1\u001b[1;33m \u001b[1;32mfrom\u001b[0m \u001b[0mwordcloud\u001b[0m \u001b[1;32mimport\u001b[0m \u001b[0mWordCloud\u001b[0m\u001b[1;33m,\u001b[0m \u001b[0mSTOPWORDS\u001b[0m\u001b[1;33m\u001b[0m\u001b[1;33m\u001b[0m\u001b[0m\n\u001b[0m\u001b[0;32m      2\u001b[0m \u001b[0mstop_words\u001b[0m \u001b[1;33m=\u001b[0m \u001b[0mset\u001b[0m\u001b[1;33m(\u001b[0m\u001b[0mSTOPWORDS\u001b[0m\u001b[1;33m)\u001b[0m\u001b[1;33m\u001b[0m\u001b[1;33m\u001b[0m\u001b[0m\n",
      "\u001b[1;31mModuleNotFoundError\u001b[0m: No module named 'wordcloud'"
     ]
    }
   ],
   "source": [
    "from wordcloud import WordCloud, STOPWORDS\n",
    "stop_words = set(STOPWORDS)"
   ]
  },
  {
   "cell_type": "code",
   "execution_count": null,
   "metadata": {
    "execution": {
     "iopub.execute_input": "2021-05-25T10:48:56.077967Z",
     "iopub.status.busy": "2021-05-25T10:48:56.077674Z",
     "iopub.status.idle": "2021-05-25T10:48:56.769268Z",
     "shell.execute_reply": "2021-05-25T10:48:56.768528Z",
     "shell.execute_reply.started": "2021-05-25T10:48:56.077940Z"
    }
   },
   "outputs": [],
   "source": [
    "print(\"Word cloud of sincere questions: \")\n",
    "sincere_wordcloud = WordCloud(width=700, height=500, background_color='white', min_font_size=10).generate(str(df_train[df_train[\"target\"] == 0][\"question_text\"]))\n",
    "plt.figure(figsize=(10,9), facecolor=None)\n",
    "plt.imshow(sincere_wordcloud)\n",
    "plt.axis(\"off\")\n",
    "plt.tight_layout(pad=0)\n",
    "plt.show()"
   ]
  },
  {
   "cell_type": "code",
   "execution_count": 14,
   "metadata": {
    "execution": {
     "iopub.execute_input": "2021-05-25T10:48:56.770668Z",
     "iopub.status.busy": "2021-05-25T10:48:56.770254Z",
     "iopub.status.idle": "2021-05-25T10:48:57.414232Z",
     "shell.execute_reply": "2021-05-25T10:48:57.413362Z",
     "shell.execute_reply.started": "2021-05-25T10:48:56.770637Z"
    }
   },
   "outputs": [
    {
     "name": "stdout",
     "output_type": "stream",
     "text": [
      "Word cloud of insincere question: \n"
     ]
    },
    {
     "ename": "NameError",
     "evalue": "name 'WordCloud' is not defined",
     "output_type": "error",
     "traceback": [
      "\u001b[1;31m---------------------------------------------------------------------------\u001b[0m",
      "\u001b[1;31mNameError\u001b[0m                                 Traceback (most recent call last)",
      "\u001b[1;32m<ipython-input-14-24c871be909d>\u001b[0m in \u001b[0;36m<module>\u001b[1;34m\u001b[0m\n\u001b[0;32m      1\u001b[0m \u001b[0mprint\u001b[0m\u001b[1;33m(\u001b[0m\u001b[1;34m\"Word cloud of insincere question: \"\u001b[0m\u001b[1;33m)\u001b[0m\u001b[1;33m\u001b[0m\u001b[1;33m\u001b[0m\u001b[0m\n\u001b[1;32m----> 2\u001b[1;33m \u001b[0minsincere_wordcloud\u001b[0m \u001b[1;33m=\u001b[0m \u001b[0mWordCloud\u001b[0m\u001b[1;33m(\u001b[0m\u001b[0mwidth\u001b[0m\u001b[1;33m=\u001b[0m\u001b[1;36m700\u001b[0m\u001b[1;33m,\u001b[0m \u001b[0mheight\u001b[0m\u001b[1;33m=\u001b[0m\u001b[1;36m500\u001b[0m\u001b[1;33m,\u001b[0m \u001b[0mbackground_color\u001b[0m\u001b[1;33m=\u001b[0m\u001b[1;34m'white'\u001b[0m\u001b[1;33m,\u001b[0m \u001b[0mmin_font_size\u001b[0m\u001b[1;33m=\u001b[0m\u001b[1;36m10\u001b[0m\u001b[1;33m)\u001b[0m\u001b[1;33m.\u001b[0m\u001b[0mgenerate\u001b[0m\u001b[1;33m(\u001b[0m\u001b[0mstr\u001b[0m\u001b[1;33m(\u001b[0m\u001b[0mdf_train\u001b[0m\u001b[1;33m[\u001b[0m\u001b[0mdf_train\u001b[0m\u001b[1;33m[\u001b[0m\u001b[1;34m\"target\"\u001b[0m\u001b[1;33m]\u001b[0m \u001b[1;33m==\u001b[0m \u001b[1;36m1\u001b[0m\u001b[1;33m]\u001b[0m\u001b[1;33m[\u001b[0m\u001b[1;34m\"question_text\"\u001b[0m\u001b[1;33m]\u001b[0m\u001b[1;33m)\u001b[0m\u001b[1;33m)\u001b[0m\u001b[1;33m\u001b[0m\u001b[1;33m\u001b[0m\u001b[0m\n\u001b[0m\u001b[0;32m      3\u001b[0m \u001b[0mplt\u001b[0m\u001b[1;33m.\u001b[0m\u001b[0mfigure\u001b[0m\u001b[1;33m(\u001b[0m\u001b[0mfigsize\u001b[0m\u001b[1;33m=\u001b[0m\u001b[1;33m(\u001b[0m\u001b[1;36m10\u001b[0m\u001b[1;33m,\u001b[0m\u001b[1;36m9\u001b[0m\u001b[1;33m)\u001b[0m\u001b[1;33m,\u001b[0m \u001b[0mfacecolor\u001b[0m\u001b[1;33m=\u001b[0m\u001b[1;32mNone\u001b[0m\u001b[1;33m)\u001b[0m\u001b[1;33m\u001b[0m\u001b[1;33m\u001b[0m\u001b[0m\n\u001b[0;32m      4\u001b[0m \u001b[0mplt\u001b[0m\u001b[1;33m.\u001b[0m\u001b[0mimshow\u001b[0m\u001b[1;33m(\u001b[0m\u001b[0minsincere_wordcloud\u001b[0m\u001b[1;33m)\u001b[0m\u001b[1;33m\u001b[0m\u001b[1;33m\u001b[0m\u001b[0m\n\u001b[0;32m      5\u001b[0m \u001b[0mplt\u001b[0m\u001b[1;33m.\u001b[0m\u001b[0maxis\u001b[0m\u001b[1;33m(\u001b[0m\u001b[1;34m\"off\"\u001b[0m\u001b[1;33m)\u001b[0m\u001b[1;33m\u001b[0m\u001b[1;33m\u001b[0m\u001b[0m\n",
      "\u001b[1;31mNameError\u001b[0m: name 'WordCloud' is not defined"
     ]
    }
   ],
   "source": [
    "print(\"Word cloud of insincere question: \")\n",
    "insincere_wordcloud = WordCloud(width=700, height=500, background_color='white', min_font_size=10).generate(str(df_train[df_train[\"target\"] == 1][\"question_text\"]))\n",
    "plt.figure(figsize=(10,9), facecolor=None)\n",
    "plt.imshow(insincere_wordcloud)\n",
    "plt.axis(\"off\")\n",
    "plt.tight_layout(pad=0)\n",
    "plt.show()"
   ]
  },
  {
   "cell_type": "markdown",
   "metadata": {},
   "source": []
  },
  {
   "cell_type": "code",
   "execution_count": 15,
   "metadata": {
    "execution": {
     "iopub.execute_input": "2021-05-25T10:48:57.415757Z",
     "iopub.status.busy": "2021-05-25T10:48:57.415448Z",
     "iopub.status.idle": "2021-05-25T10:48:57.422704Z",
     "shell.execute_reply": "2021-05-25T10:48:57.421376Z",
     "shell.execute_reply.started": "2021-05-25T10:48:57.415728Z"
    }
   },
   "outputs": [
    {
     "name": "stdout",
     "output_type": "stream",
     "text": [
      "Insincere question ratio:  6.187017751787352\n"
     ]
    }
   ],
   "source": [
    "ratio = (df_train.target.sum() / df_train.shape[0]) * 100\n",
    "print(\"Insincere question ratio: \", ratio)"
   ]
  },
  {
   "cell_type": "markdown",
   "metadata": {},
   "source": [
    "# Preprocessing"
   ]
  },
  {
   "cell_type": "markdown",
   "metadata": {},
   "source": [
    "# data cleaning and converting to vectors"
   ]
  },
  {
   "cell_type": "code",
   "execution_count": 16,
   "metadata": {
    "execution": {
     "iopub.execute_input": "2021-05-25T10:48:57.424797Z",
     "iopub.status.busy": "2021-05-25T10:48:57.424357Z",
     "iopub.status.idle": "2021-05-25T10:48:57.438386Z",
     "shell.execute_reply": "2021-05-25T10:48:57.437587Z",
     "shell.execute_reply.started": "2021-05-25T10:48:57.424752Z"
    }
   },
   "outputs": [
    {
     "name": "stderr",
     "output_type": "stream",
     "text": [
      "[nltk_data] Downloading package stopwords to\n",
      "[nltk_data]     C:\\Users\\pc\\AppData\\Roaming\\nltk_data...\n",
      "[nltk_data]   Package stopwords is already up-to-date!\n"
     ]
    }
   ],
   "source": [
    "import nltk\n",
    "import string\n",
    "from nltk.tokenize import word_tokenize\n",
    "from nltk.corpus import stopwords\n",
    "from nltk.stem import WordNetLemmatizer\n",
    "\n",
    "nltk.download('stopwords')\n",
    "nltk_stopwords = stopwords.words('english')\n",
    "\n",
    "wordnet_lemmatizer = WordNetLemmatizer()\n",
    "\n",
    "def lemSentence(sentence):\n",
    "    token_words = word_tokenize(sentence)\n",
    "    lem_sentence = []\n",
    "    for word in token_words:\n",
    "        lem_sentence.append(wordnet_lemmatizer.lemmatize(word, pos=\"v\"))\n",
    "        lem_sentence.append(\" \")\n",
    "    return \"\".join(lem_sentence)\n",
    "\n",
    "def clean_text(message, lem=True):\n",
    "    # Remove ponctuation\n",
    "    message = message.translate(str.maketrans('', '', string.punctuation))\n",
    "    \n",
    "    # Remove numbers\n",
    "    message = message.translate(str.maketrans('', '', string.digits))\n",
    "    \n",
    "    # Remove stop words\n",
    "    message = [word for word in word_tokenize(message) if not word.lower() in nltk_stopwords]\n",
    "    message = ' '.join(message)\n",
    "    \n",
    "    # Lemmatization (root of the word)\n",
    "    if lem:\n",
    "        message = lemSentence(message)\n",
    "    \n",
    "    return message"
   ]
  },
  {
   "cell_type": "code",
   "execution_count": 17,
   "metadata": {
    "execution": {
     "iopub.execute_input": "2021-05-25T10:48:57.442200Z",
     "iopub.status.busy": "2021-05-25T10:48:57.440342Z",
     "iopub.status.idle": "2021-05-25T10:53:08.083570Z",
     "shell.execute_reply": "2021-05-25T10:53:08.082360Z",
     "shell.execute_reply.started": "2021-05-25T10:48:57.442166Z"
    }
   },
   "outputs": [
    {
     "name": "stderr",
     "output_type": "stream",
     "text": [
      "c:\\users\\pc\\appdata\\local\\programs\\python\\python39\\lib\\site-packages\\sklearn\\feature_extraction\\text.py:388: UserWarning: Your stop_words may be inconsistent with your preprocessing. Tokenizing the stop words generated tokens ['make'] not in stop_words.\n",
      "  warnings.warn('Your stop_words may be inconsistent with '\n"
     ]
    }
   ],
   "source": [
    "from sklearn.feature_extraction.text import TfidfVectorizer\n",
    "vectorizer = TfidfVectorizer(stop_words=\"english\",\n",
    "                             preprocessor=clean_text,\n",
    "                             ngram_range=(1, 3))\n",
    "X = vectorizer.fit_transform(df_train_sampled['question_text'])\n",
    "x = vectorizer.transform(df_test['question_text'])"
   ]
  },
  {
   "cell_type": "markdown",
   "metadata": {},
   "source": [
    "# Build model"
   ]
  },
  {
   "cell_type": "code",
   "execution_count": 18,
   "metadata": {
    "execution": {
     "iopub.execute_input": "2021-05-25T10:53:08.085724Z",
     "iopub.status.busy": "2021-05-25T10:53:08.085271Z",
     "iopub.status.idle": "2021-05-25T10:53:08.129305Z",
     "shell.execute_reply": "2021-05-25T10:53:08.128329Z",
     "shell.execute_reply.started": "2021-05-25T10:53:08.085677Z"
    }
   },
   "outputs": [],
   "source": [
    "from sklearn.model_selection import train_test_split\n",
    "\n",
    "X_train, X_test, y_train, y_test = train_test_split(X, df_train_sampled['target'], test_size=0.2, random_state=42)"
   ]
  },
  {
   "cell_type": "code",
   "execution_count": 19,
   "metadata": {
    "execution": {
     "iopub.execute_input": "2021-05-25T10:53:08.131455Z",
     "iopub.status.busy": "2021-05-25T10:53:08.131003Z",
     "iopub.status.idle": "2021-05-25T10:53:08.138302Z",
     "shell.execute_reply": "2021-05-25T10:53:08.137584Z",
     "shell.execute_reply.started": "2021-05-25T10:53:08.131388Z"
    }
   },
   "outputs": [],
   "source": [
    "from sklearn.metrics import f1_score, accuracy_score, classification_report\n",
    "\n",
    "# calculate f1-score\n",
    "def get_f1(model, name):\n",
    "    y_train_pred, y_pred = model.predict(X_train), model.predict(X_test)\n",
    "    print(classification_report(y_test, y_pred), '\\n')\n",
    "    print('{} model with F1 score = {}'.format(name, f1_score(y_test, y_pred)))"
   ]
  },
  {
   "cell_type": "markdown",
   "metadata": {},
   "source": [
    "# XGBoost Classifier without weigths"
   ]
  },
  {
   "cell_type": "code",
   "execution_count": 21,
   "metadata": {
    "execution": {
     "iopub.execute_input": "2021-05-25T11:01:57.706664Z",
     "iopub.status.busy": "2021-05-25T11:01:57.706193Z",
     "iopub.status.idle": "2021-05-25T11:03:24.614396Z",
     "shell.execute_reply": "2021-05-25T11:03:24.613600Z",
     "shell.execute_reply.started": "2021-05-25T11:01:57.706624Z"
    }
   },
   "outputs": [
    {
     "name": "stderr",
     "output_type": "stream",
     "text": [
      "c:\\users\\pc\\appdata\\local\\programs\\python\\python39\\lib\\site-packages\\xgboost\\sklearn.py:1146: UserWarning: The use of label encoder in XGBClassifier is deprecated and will be removed in a future release. To remove this warning, do the following: 1) Pass option use_label_encoder=False when constructing XGBClassifier object; and 2) Encode your labels (y) as integers starting with 0, i.e. 0, 1, 2, ..., [num_class - 1].\n",
      "  warnings.warn(label_encoder_deprecation_msg, UserWarning)\n"
     ]
    },
    {
     "name": "stdout",
     "output_type": "stream",
     "text": [
      "[10:44:38] WARNING: C:/Users/Administrator/workspace/xgboost-win64_release_1.4.0/src/learner.cc:1095: Starting in XGBoost 1.3.0, the default evaluation metric used with the objective 'binary:logistic' was changed from 'error' to 'logloss'. Explicitly set eval_metric if you'd like to restore the old behavior.\n"
     ]
    },
    {
     "data": {
      "text/plain": [
       "XGBClassifier(base_score=0.5, booster='gbtree', colsample_bylevel=1,\n",
       "              colsample_bynode=1, colsample_bytree=1, gamma=0, gpu_id=-1,\n",
       "              importance_type='gain', interaction_constraints='',\n",
       "              learning_rate=0.300000012, max_delta_step=0, max_depth=6,\n",
       "              min_child_weight=1, missing=nan, monotone_constraints='()',\n",
       "              n_estimators=100, n_jobs=4, num_parallel_tree=1, random_state=0,\n",
       "              reg_alpha=0, reg_lambda=1, scale_pos_weight=1, subsample=1,\n",
       "              tree_method='exact', validate_parameters=1, verbosity=None)"
      ]
     },
     "execution_count": 21,
     "metadata": {},
     "output_type": "execute_result"
    }
   ],
   "source": [
    "from xgboost import XGBClassifier\n",
    "import xgboost as xgb1\n",
    "xgb1 = xgb1.XGBClassifier(objective=\"binary:logistic\")\n",
    "xgb1.fit(X_train, y_train)"
   ]
  },
  {
   "cell_type": "code",
   "execution_count": 22,
   "metadata": {
    "execution": {
     "iopub.execute_input": "2021-05-25T11:05:03.086035Z",
     "iopub.status.busy": "2021-05-25T11:05:03.085420Z",
     "iopub.status.idle": "2021-05-25T11:05:05.504534Z",
     "shell.execute_reply": "2021-05-25T11:05:05.503436Z",
     "shell.execute_reply.started": "2021-05-25T11:05:03.085997Z"
    }
   },
   "outputs": [
    {
     "name": "stdout",
     "output_type": "stream",
     "text": [
      "              precision    recall  f1-score   support\n",
      "\n",
      "           0       0.79      0.90      0.84     16107\n",
      "           1       0.88      0.76      0.82     16217\n",
      "\n",
      "    accuracy                           0.83     32324\n",
      "   macro avg       0.84      0.83      0.83     32324\n",
      "weighted avg       0.84      0.83      0.83     32324\n",
      " \n",
      "\n",
      "XGBClassifier model with F1 score = 0.8172755274401351\n"
     ]
    }
   ],
   "source": [
    "get_f1(xgb1, 'XGBClassifier')"
   ]
  },
  {
   "cell_type": "markdown",
   "metadata": {},
   "source": [
    "# XGBoost Classifier with weigths"
   ]
  },
  {
   "cell_type": "code",
   "execution_count": 23,
   "metadata": {
    "execution": {
     "iopub.execute_input": "2021-05-25T10:54:38.549125Z",
     "iopub.status.busy": "2021-05-25T10:54:38.548847Z",
     "iopub.status.idle": "2021-05-25T10:54:38.556513Z",
     "shell.execute_reply": "2021-05-25T10:54:38.555655Z",
     "shell.execute_reply.started": "2021-05-25T10:54:38.549098Z"
    }
   },
   "outputs": [
    {
     "data": {
      "text/plain": [
       "0.0017029709101605438"
      ]
     },
     "execution_count": 23,
     "metadata": {},
     "output_type": "execute_result"
    }
   ],
   "source": [
    "ratio = ((len(y_train) - y_train.sum()) - y_train.sum()) / y_train.sum()\n",
    "ratio"
   ]
  },
  {
   "cell_type": "code",
   "execution_count": 24,
   "metadata": {
    "execution": {
     "iopub.execute_input": "2021-05-25T10:54:38.558029Z",
     "iopub.status.busy": "2021-05-25T10:54:38.557728Z",
     "iopub.status.idle": "2021-05-25T10:55:48.448901Z",
     "shell.execute_reply": "2021-05-25T10:55:48.447936Z",
     "shell.execute_reply.started": "2021-05-25T10:54:38.558001Z"
    }
   },
   "outputs": [
    {
     "name": "stderr",
     "output_type": "stream",
     "text": [
      "c:\\users\\pc\\appdata\\local\\programs\\python\\python39\\lib\\site-packages\\xgboost\\sklearn.py:1146: UserWarning: The use of label encoder in XGBClassifier is deprecated and will be removed in a future release. To remove this warning, do the following: 1) Pass option use_label_encoder=False when constructing XGBClassifier object; and 2) Encode your labels (y) as integers starting with 0, i.e. 0, 1, 2, ..., [num_class - 1].\n",
      "  warnings.warn(label_encoder_deprecation_msg, UserWarning)\n"
     ]
    },
    {
     "name": "stdout",
     "output_type": "stream",
     "text": [
      "[11:00:15] WARNING: C:/Users/Administrator/workspace/xgboost-win64_release_1.4.0/src/learner.cc:1095: Starting in XGBoost 1.3.0, the default evaluation metric used with the objective 'binary:logistic' was changed from 'error' to 'logloss'. Explicitly set eval_metric if you'd like to restore the old behavior.\n",
      "              precision    recall  f1-score   support\n",
      "\n",
      "           0       0.50      1.00      0.67     16107\n",
      "           1       1.00      0.00      0.00     16217\n",
      "\n",
      "    accuracy                           0.50     32324\n",
      "   macro avg       0.75      0.50      0.33     32324\n",
      "weighted avg       0.75      0.50      0.33     32324\n",
      " \n",
      "\n",
      "XGBClassifier model with F1 score = 0.0029554830367588204\n"
     ]
    }
   ],
   "source": [
    "import xgboost as xgb\n",
    "xgb = xgb.XGBClassifier(objective=\"binary:logistic\", scale_pos_weight=ratio)\n",
    "xgb.fit(X_train, y_train)\n",
    "get_f1(xgb, 'XGBClassifier')"
   ]
  },
  {
   "cell_type": "markdown",
   "metadata": {},
   "source": [
    "# LGBM with weights "
   ]
  },
  {
   "cell_type": "code",
   "execution_count": 25,
   "metadata": {
    "execution": {
     "iopub.execute_input": "2021-05-25T10:55:48.452006Z",
     "iopub.status.busy": "2021-05-25T10:55:48.451715Z",
     "iopub.status.idle": "2021-05-25T10:56:20.825523Z",
     "shell.execute_reply": "2021-05-25T10:56:20.824500Z",
     "shell.execute_reply.started": "2021-05-25T10:55:48.451978Z"
    }
   },
   "outputs": [
    {
     "ename": "ModuleNotFoundError",
     "evalue": "No module named 'lightgbm'",
     "output_type": "error",
     "traceback": [
      "\u001b[1;31m---------------------------------------------------------------------------\u001b[0m",
      "\u001b[1;31mModuleNotFoundError\u001b[0m                       Traceback (most recent call last)",
      "\u001b[1;32m<ipython-input-25-204928d1cb7c>\u001b[0m in \u001b[0;36m<module>\u001b[1;34m\u001b[0m\n\u001b[1;32m----> 1\u001b[1;33m \u001b[1;32mimport\u001b[0m \u001b[0mlightgbm\u001b[0m \u001b[1;32mas\u001b[0m \u001b[0mlgb\u001b[0m\u001b[1;33m\u001b[0m\u001b[1;33m\u001b[0m\u001b[0m\n\u001b[0m\u001b[0;32m      2\u001b[0m \u001b[0mlgb\u001b[0m \u001b[1;33m=\u001b[0m \u001b[0mlgb\u001b[0m\u001b[1;33m.\u001b[0m\u001b[0mLGBMClassifier\u001b[0m\u001b[1;33m(\u001b[0m\u001b[0mn_jobs\u001b[0m \u001b[1;33m=\u001b[0m \u001b[1;33m-\u001b[0m\u001b[1;36m1\u001b[0m\u001b[1;33m,\u001b[0m \u001b[0mclass_weight\u001b[0m\u001b[1;33m=\u001b[0m\u001b[1;33m{\u001b[0m\u001b[1;36m0\u001b[0m\u001b[1;33m:\u001b[0m\u001b[0my_train\u001b[0m\u001b[1;33m.\u001b[0m\u001b[0msum\u001b[0m\u001b[1;33m(\u001b[0m\u001b[1;33m)\u001b[0m\u001b[1;33m,\u001b[0m \u001b[1;36m1\u001b[0m\u001b[1;33m:\u001b[0m\u001b[0mlen\u001b[0m\u001b[1;33m(\u001b[0m\u001b[0my_train\u001b[0m\u001b[1;33m)\u001b[0m \u001b[1;33m-\u001b[0m \u001b[0my_train\u001b[0m\u001b[1;33m.\u001b[0m\u001b[0msum\u001b[0m\u001b[1;33m(\u001b[0m\u001b[1;33m)\u001b[0m\u001b[1;33m}\u001b[0m\u001b[1;33m)\u001b[0m\u001b[1;33m\u001b[0m\u001b[1;33m\u001b[0m\u001b[0m\n\u001b[0;32m      3\u001b[0m \u001b[0mlgb\u001b[0m\u001b[1;33m.\u001b[0m\u001b[0mfit\u001b[0m\u001b[1;33m(\u001b[0m\u001b[0mX_train\u001b[0m\u001b[1;33m,\u001b[0m \u001b[0my_train\u001b[0m\u001b[1;33m)\u001b[0m\u001b[1;33m\u001b[0m\u001b[1;33m\u001b[0m\u001b[0m\n\u001b[0;32m      4\u001b[0m \u001b[0mget_f1\u001b[0m\u001b[1;33m(\u001b[0m\u001b[0mlgb\u001b[0m\u001b[1;33m,\u001b[0m \u001b[1;34m'LGBM weighted'\u001b[0m\u001b[1;33m)\u001b[0m\u001b[1;33m\u001b[0m\u001b[1;33m\u001b[0m\u001b[0m\n",
      "\u001b[1;31mModuleNotFoundError\u001b[0m: No module named 'lightgbm'"
     ]
    }
   ],
   "source": [
    "import lightgbm as lgb\n",
    "lgb = lgb.LGBMClassifier(n_jobs = -1, class_weight={0:y_train.sum(), 1:len(y_train) - y_train.sum()})\n",
    "lgb.fit(X_train, y_train)\n",
    "get_f1(lgb, 'LGBM weighted')"
   ]
  },
  {
   "cell_type": "markdown",
   "metadata": {},
   "source": [
    "# Prediction"
   ]
  },
  {
   "cell_type": "code",
   "execution_count": 26,
   "metadata": {},
   "outputs": [
    {
     "data": {
      "text/plain": [
       "array([1, 0, 0, ..., 0, 0, 0], dtype=int64)"
      ]
     },
     "execution_count": 26,
     "metadata": {},
     "output_type": "execute_result"
    }
   ],
   "source": [
    "model = xgb1\n",
    "preds = model.predict(x)[0:]\n",
    "preds"
   ]
  },
  {
   "cell_type": "markdown",
   "metadata": {},
   "source": [
    "# Saving trained model "
   ]
  },
  {
   "cell_type": "code",
   "execution_count": 27,
   "metadata": {},
   "outputs": [],
   "source": [
    "import pickle "
   ]
  },
  {
   "cell_type": "code",
   "execution_count": 28,
   "metadata": {},
   "outputs": [],
   "source": [
    "filename = 'quora_model'\n",
    "pickle.dump(xgb1,open(filename,'wb'))"
   ]
  },
  {
   "cell_type": "markdown",
   "metadata": {},
   "source": [
    "# Result"
   ]
  },
  {
   "cell_type": "code",
   "execution_count": 29,
   "metadata": {
    "execution": {
     "iopub.execute_input": "2021-05-25T11:05:39.210157Z",
     "iopub.status.busy": "2021-05-25T11:05:39.209762Z",
     "iopub.status.idle": "2021-05-25T11:05:43.127387Z",
     "shell.execute_reply": "2021-05-25T11:05:43.126388Z",
     "shell.execute_reply.started": "2021-05-25T11:05:39.210123Z"
    }
   },
   "outputs": [],
   "source": [
    "#model = xgb1\n",
    "#submission = pd.read_csv(\"../input/quora-insincere-questions-classification/sample_submission.csv\")\n",
    "#preds = model.predict(x)\n",
    "#submission.loc[:, 'prediction'] = preds\n",
    "#submission"
   ]
  },
  {
   "cell_type": "code",
   "execution_count": null,
   "metadata": {
    "execution": {
     "iopub.execute_input": "2021-05-25T10:56:23.341308Z",
     "iopub.status.busy": "2021-05-25T10:56:23.341004Z",
     "iopub.status.idle": "2021-05-25T10:56:32.748972Z",
     "shell.execute_reply": "2021-05-25T10:56:32.748214Z",
     "shell.execute_reply.started": "2021-05-25T10:56:23.341278Z"
    }
   },
   "outputs": [],
   "source": [
    "#from lightgbm import *\n",
    "#model1 = lgb\n",
    "#pred_lgb = model1.predict(x)\n",
    "#submission.loc[:, 'prediction'] = pred_lgb\n",
    "#submission"
   ]
  },
  {
   "cell_type": "markdown",
   "metadata": {},
   "source": [
    "# #Final Interpretation:-\n",
    " \n",
    " 1. xgb without weight :-accuracy is 0.83\n",
    " 2. xgb with weights :-accuracy is 0.50\n",
    " 3. lgb :-accuracy is 0.82\n",
    "    \n",
    "     prediction values for test data seem to be more accurate by xgb without weight."
   ]
  },
  {
   "cell_type": "code",
   "execution_count": null,
   "metadata": {},
   "outputs": [],
   "source": []
  },
  {
   "cell_type": "code",
   "execution_count": null,
   "metadata": {},
   "outputs": [],
   "source": []
  }
 ],
 "metadata": {
  "kernelspec": {
   "display_name": "Python 3",
   "language": "python",
   "name": "python3"
  },
  "language_info": {
   "codemirror_mode": {
    "name": "ipython",
    "version": 3
   },
   "file_extension": ".py",
   "mimetype": "text/x-python",
   "name": "python",
   "nbconvert_exporter": "python",
   "pygments_lexer": "ipython3",
   "version": "3.9.5"
  }
 },
 "nbformat": 4,
 "nbformat_minor": 4
}
